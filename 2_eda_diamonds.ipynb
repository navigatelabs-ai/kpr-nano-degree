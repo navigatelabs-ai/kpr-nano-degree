{
 "cells": [
  {
   "cell_type": "markdown",
   "id": "853a24b7",
   "metadata": {},
   "source": [
    "# Diamonds Dataset Visualization Notebook\n",
    "This notebook explores the diamonds dataset using a variety of visualizations to tell a compelling story about diamond characteristics, pricing, and quality."
   ]
  },
  {
   "cell_type": "code",
   "execution_count": null,
   "id": "c190e7a3",
   "metadata": {},
   "outputs": [],
   "source": [
    "! pip install seaborn"
   ]
  },
  {
   "cell_type": "code",
   "execution_count": null,
   "id": "4e0df7e1",
   "metadata": {},
   "outputs": [],
   "source": [
    "import seaborn as sns\n",
    "import pandas as pd\n",
    "import matplotlib.pyplot as plt\n",
    "from mpl_toolkits.mplot3d import Axes3D\n",
    "diamonds = sns.load_dataset('diamonds')\n",
    "diamonds.head()"
   ]
  },
  {
   "cell_type": "markdown",
   "id": "fcf86ea0",
   "metadata": {},
   "source": [
    "### Step 1: Basic Information about the Dataset"
   ]
  },
  {
   "cell_type": "code",
   "execution_count": null,
   "id": "c4f70f8c",
   "metadata": {},
   "outputs": [],
   "source": [
    "diamonds.info()\n",
    "diamonds.describe()"
   ]
  },
  {
   "cell_type": "markdown",
   "id": "31bab11e",
   "metadata": {},
   "source": [
    "### Step 2: Visualize the Distribution of Diamond Prices\n",
    "Start by visualizing the distribution of diamond prices to show the overall price range."
   ]
  },
  {
   "cell_type": "markdown",
   "id": "ca31442d",
   "metadata": {},
   "source": []
  },
  {
   "cell_type": "code",
   "execution_count": null,
   "id": "9c01ce86",
   "metadata": {},
   "outputs": [],
   "source": [
    "plt.figure(figsize=(10, 6))\n",
    "sns.histplot(diamonds['price'], bins=50, kde=True)\n",
    "plt.title('Distribution of Diamond Prices')\n",
    "plt.xlabel('Price (USD)')\n",
    "plt.ylabel('Frequency')\n",
    "plt.show()"
   ]
  },
  {
   "cell_type": "markdown",
   "id": "b3bea61f",
   "metadata": {},
   "source": [
    "**Story Insight:** This histogram provides insight into the price distribution. Note the skewness—most diamonds fall into a lower price range, with a few very expensive ones."
   ]
  },
  {
   "cell_type": "markdown",
   "id": "5ceaf434",
   "metadata": {},
   "source": [
    "### Step 3: Examine the Relationship Between Carat and Price\n",
    "Diamonds’ prices are influenced significantly by their carat weight. Plot this relationship using a scatter plot."
   ]
  },
  {
   "cell_type": "code",
   "execution_count": null,
   "id": "50e97829",
   "metadata": {},
   "outputs": [],
   "source": [
    "plt.figure(figsize=(10, 6))\n",
    "sns.scatterplot(x='carat', y='price', data=diamonds, alpha=0.5)\n",
    "plt.title('Carat vs. Price')\n",
    "plt.xlabel('Carat')\n",
    "plt.ylabel('Price (USD)')\n",
    "plt.show()"
   ]
  },
  {
   "cell_type": "markdown",
   "id": "22425b68",
   "metadata": {},
   "source": [
    "**Story Insight:** This scatter plot illustrates that as the carat weight increases, the price rises exponentially. Highlight any outliers that may indicate diamonds with high carat weight but lower prices."
   ]
  },
  {
   "cell_type": "markdown",
   "id": "b16ca2cd",
   "metadata": {},
   "source": [
    "### Step 4: Visualize Diamond Clarity vs. Price\n",
    "\n",
    "Clarity impacts diamond pricing. Use a boxplot to show price variations across different clarity levels.\n",
    "\n",
    "\n"
   ]
  },
  {
   "cell_type": "code",
   "execution_count": null,
   "id": "d3ddb5f3",
   "metadata": {},
   "outputs": [],
   "source": [
    "plt.figure(figsize=(12, 6))\n",
    "sns.boxplot(x='clarity', y='price', data=diamonds, palette='viridis')\n",
    "plt.title('Diamond Price Distribution by Clarity')\n",
    "plt.xlabel('Clarity')\n",
    "plt.ylabel('Price (USD)')\n",
    "plt.show()"
   ]
  },
  {
   "cell_type": "markdown",
   "id": "3bae923d",
   "metadata": {},
   "source": [
    "Story Insight: Emphasize how diamonds with better clarity (e.g., ‘IF’—Internally Flawless) generally have higher median prices. This visualization helps illustrate how clarity grades influence diamond value."
   ]
  },
  {
   "cell_type": "markdown",
   "id": "7ea6119f",
   "metadata": {},
   "source": [
    "### Step 5: Explore Cut Quality and Price Trends\n",
    "\n",
    "The quality of a diamond’s cut also affects its price. Let's visualize this using a violin plot.\n"
   ]
  },
  {
   "cell_type": "code",
   "execution_count": null,
   "id": "041f4eed",
   "metadata": {},
   "outputs": [],
   "source": [
    "plt.figure(figsize=(12, 6))\n",
    "sns.violinplot(x='cut', y='price', data=diamonds, palette='coolwarm')\n",
    "plt.title('Price Variation by Cut Quality')\n",
    "plt.xlabel('Cut Quality')\n",
    "plt.ylabel('Price (USD)')\n",
    "plt.show()"
   ]
  },
  {
   "cell_type": "markdown",
   "id": "610be834",
   "metadata": {},
   "source": [
    "Story Insight: Violin plots combine information about the data’s density and distribution. Highlight that while ‘Ideal’ and ‘Premium’ cuts generally fetch higher prices, other cuts (e.g., ‘Fair’) have a broader range of values, indicating variability.\n",
    "\n"
   ]
  },
  {
   "cell_type": "markdown",
   "id": "94c145bb",
   "metadata": {},
   "source": [
    "### Step 6: Create a Pair Plot for a Comprehensive Overview\n",
    "To show the interaction between different features (like carat, price, depth, and table), use a pair plot.\n",
    "\n"
   ]
  },
  {
   "cell_type": "code",
   "execution_count": null,
   "id": "4ee35412",
   "metadata": {},
   "outputs": [],
   "source": [
    "sns.pairplot(diamonds[['carat', 'price', 'depth', 'table']], diag_kind='kde', corner=True)\n",
    "plt.suptitle('Pair Plot of Key Diamond Features', y=1.02)\n",
    "plt.show()"
   ]
  },
  {
   "cell_type": "markdown",
   "id": "2280d5c9",
   "metadata": {},
   "source": [
    "Story Insight: Pair plots provide a comprehensive overview of how features relate to each other. This is useful for showing how price and carat are strongly correlated, while other attributes like depth and table might have weaker correlations.\n",
    "\n"
   ]
  },
  {
   "cell_type": "markdown",
   "id": "f85240f8",
   "metadata": {},
   "source": [
    "### Step 7: Visualize the Count of Diamonds Based on Color\n",
    "\n",
    "Use a bar plot to visualize the count of diamonds by their color grade.\n",
    "\n"
   ]
  },
  {
   "cell_type": "code",
   "execution_count": null,
   "id": "4eb1a1d3",
   "metadata": {},
   "outputs": [],
   "source": [
    "plt.figure(figsize=(10, 6))\n",
    "sns.countplot(x='color', data=diamonds, palette='magma')\n",
    "plt.title('Count of Diamonds by Color Grade')\n",
    "plt.xlabel('Color Grade')\n",
    "plt.ylabel('Count')\n",
    "plt.show()"
   ]
  },
  {
   "cell_type": "markdown",
   "id": "8de79a46",
   "metadata": {},
   "source": [
    "Story Insight: Highlight that certain colors (like ‘G’) are more common, which might influence pricing trends. Rarer colors often mean higher prices.\n",
    "\n"
   ]
  },
  {
   "cell_type": "markdown",
   "id": "f7809598",
   "metadata": {},
   "source": [
    "### Step 8: Visualize a Heatmap of Correlations Between Numerical Features\n",
    "A heatmap can reveal the correlation between numerical features like carat, depth, table, and price.\n",
    "\n"
   ]
  },
  {
   "cell_type": "code",
   "execution_count": null,
   "id": "40f6853d",
   "metadata": {},
   "outputs": [],
   "source": [
    "# Select only the numerical columns for the correlation matrix\n",
    "numerical_cols = diamonds.select_dtypes(include=['float64', 'int64'])\n",
    "\n",
    "plt.figure(figsize=(8, 6))\n",
    "sns.heatmap(numerical_cols.corr(), annot=True, cmap='coolwarm', linewidths=0.5)\n",
    "plt.title('Correlation Heatmap of Numerical Diamond Features')\n",
    "plt.show()\n"
   ]
  },
  {
   "cell_type": "markdown",
   "id": "4f75aac1",
   "metadata": {},
   "source": [
    "Story Insight: Emphasize the strong positive correlation between carat and price, while other features (like depth and table) have weaker associations. This indicates carat as a primary factor influencing diamond pricing."
   ]
  },
  {
   "cell_type": "markdown",
   "id": "f592edc7",
   "metadata": {},
   "source": [
    "### Step 9: Build a 3D Scatter Plot (Optional Advanced Visualization)\n",
    "A 3D scatter plot can show the relationship between carat, price, and another feature like depth.\n",
    "\n"
   ]
  },
  {
   "cell_type": "code",
   "execution_count": null,
   "id": "779b6f35",
   "metadata": {},
   "outputs": [],
   "source": [
    "fig = plt.figure(figsize=(10, 8))\n",
    "ax = fig.add_subplot(111, projection='3d')\n",
    "ax.scatter(diamonds['carat'], diamonds['depth'], diamonds['price'], c=diamonds['price'], cmap='viridis', alpha=0.5)\n",
    "ax.set_xlabel('Carat')\n",
    "ax.set_ylabel('Depth')\n",
    "ax.set_zlabel('Price (USD)')\n",
    "plt.title('3D Scatter Plot: Carat vs. Depth vs. Price')\n",
    "plt.show()"
   ]
  },
  {
   "cell_type": "markdown",
   "id": "605e241e",
   "metadata": {},
   "source": [
    "Story Insight: This advanced plot provides an interactive perspective to showcase the effect of multiple features (carat and depth) on price simultaneously.\n",
    "\n"
   ]
  },
  {
   "cell_type": "markdown",
   "id": "e699db8a",
   "metadata": {},
   "source": [
    "### Step 10: Add Insights and Annotations\n",
    "Incorporate annotations and insights into your visualizations to highlight key points during your presentation.\n",
    "\n",
    "For example, annotate the scatter plot to show a significant outlier:"
   ]
  },
  {
   "cell_type": "code",
   "execution_count": null,
   "id": "9f0efd13",
   "metadata": {},
   "outputs": [],
   "source": [
    "plt.figure(figsize=(10, 6))\n",
    "sns.scatterplot(x='carat', y='price', data=diamonds, alpha=0.5)\n",
    "plt.title('Carat vs. Price')\n",
    "plt.xlabel('Carat')\n",
    "plt.ylabel('Price (USD)')\n",
    "highest_priced = diamonds.loc[diamonds['price'].idxmax()]\n",
    "plt.annotate('Highest Priced Diamond', xy=(highest_priced['carat'], highest_priced['price']),\n",
    "             xytext=(4, 15000), arrowprops=dict(facecolor='red', shrink=0.05))\n",
    "plt.show()"
   ]
  },
  {
   "cell_type": "markdown",
   "id": "af3cf744",
   "metadata": {},
   "source": [
    "### FacetGrid: Price Distribution Across Different Cut Qualities"
   ]
  },
  {
   "cell_type": "code",
   "execution_count": null,
   "id": "db6df3d3",
   "metadata": {},
   "outputs": [],
   "source": [
    "g = sns.FacetGrid(diamonds, col='cut', col_wrap=3, height=4)\n",
    "g.map(sns.histplot, 'price', bins=20)\n",
    "g.fig.suptitle('Price Distribution Across Different Cut Qualities', y=1.02)\n",
    "plt.show()"
   ]
  },
  {
   "cell_type": "code",
   "execution_count": null,
   "id": "7443f029",
   "metadata": {},
   "outputs": [],
   "source": []
  }
 ],
 "metadata": {
  "kernelspec": {
   "display_name": "base",
   "language": "python",
   "name": "python3"
  },
  "language_info": {
   "codemirror_mode": {
    "name": "ipython",
    "version": 3
   },
   "file_extension": ".py",
   "mimetype": "text/x-python",
   "name": "python",
   "nbconvert_exporter": "python",
   "pygments_lexer": "ipython3",
   "version": "3.11.9"
  }
 },
 "nbformat": 4,
 "nbformat_minor": 5
}

{
 "cells": [
  {
   "cell_type": "markdown",
   "id": "ac7e08f8",
   "metadata": {},
   "source": [
    "# Data Science Assignment"
   ]
  },
  {
   "cell_type": "markdown",
   "id": "5d6af303",
   "metadata": {},
   "source": [
    "## 0. Introduction\n",
    "In this assignment, you will work on a crop recommendation dataset to practice and test your skills in data science.\n",
    "Follow the steps outlined below to complete the assignment."
   ]
  },
  {
   "cell_type": "markdown",
   "id": "1c672f21",
   "metadata": {},
   "source": [
    "#### Context\n",
    "Precision agriculture is in trend nowadays. It helps the farmers to get informed decision about the farming strategy. Here, I present you a dataset which would allow the users to build a predictive model to recommend the most suitable crops to grow in a particular farm based on various parameters.\n",
    "\n",
    "This dataset was build by augmenting datasets of rainfall, climate and fertilizer data available for India.\n",
    "\n",
    "#### Data fields\n",
    "- N - ratio of Nitrogen content in soil\n",
    "- P - ratio of Phosphorous content in soil\n",
    "- K - ratio of Potassium content in soil\n",
    "- temperature - temperature in degree Celsius\n",
    "- humidity - relative humidity in %\n",
    "- ph - ph value of the soil\n",
    "- rainfall - rainfall in mm"
   ]
  },
  {
   "cell_type": "markdown",
   "id": "5ac2f3ab",
   "metadata": {},
   "source": [
    "## 1. Data Processing\n",
    "Load the dataset and check for missing values or any inconsistencies. Perform necessary data cleaning tasks if required.\n"
   ]
  },
  {
   "cell_type": "markdown",
   "id": "c08babfc",
   "metadata": {},
   "source": [
    "### Task: 1\n",
    "- Read and the dataset using pandas library"
   ]
  },
  {
   "cell_type": "code",
   "execution_count": 1,
   "id": "e0dc7dbe",
   "metadata": {},
   "outputs": [],
   "source": [
    "# Your code here to load and process the data\n",
    "import pandas as pd\n",
    "\n",
    "# Load dataset\n",
    "crop_data = pd.read_csv('<dataset-here>')"
   ]
  },
  {
   "cell_type": "markdown",
   "id": "5b2c4c7d",
   "metadata": {},
   "source": [
    "### Task 2: \n",
    "\n",
    "Find how many rows are there in the dataset"
   ]
  },
  {
   "cell_type": "markdown",
   "id": "8e93d351",
   "metadata": {},
   "source": [
    "### Task 3: \n",
    "\n",
    "Find rows that contain missing values, if any\n",
    "Print all the columns that contains null/ missing values"
   ]
  },
  {
   "cell_type": "markdown",
   "id": "245e10bc",
   "metadata": {},
   "source": [
    "### Task 4: \n",
    "\n",
    "Find min, max, mean, median, and standard deviation of all the columns in this dataset"
   ]
  },
  {
   "cell_type": "markdown",
   "id": "e19b0a16",
   "metadata": {},
   "source": [
    "## 2. Data Pre-Processing\n",
    "\n",
    "**What is the purpose of data pre-processing?**\n",
    "\n",
    "Data pre-processing is the process of preparing and cleaning raw data to make it suitable for analysis. It involves tasks such as data cleaning, transformation, and feature engineering."
   ]
  },
  {
   "cell_type": "markdown",
   "id": "7e96b97b",
   "metadata": {},
   "source": [
    "### Task 5: \n",
    "\n",
    "1. if the column is numerics, replace them with the mean of the column.\n",
    "2. if they column is categorical, replace them with the maximim occuring value of the column."
   ]
  },
  {
   "cell_type": "markdown",
   "id": "2efe600e",
   "metadata": {},
   "source": [
    "## 3. Feature Engineering\n",
    "Analyze the features available in the dataset and perform feature engineering if needed. This may include creating new features or transforming existing ones.\n",
    "\n",
    "\n",
    "\n"
   ]
  },
  {
   "cell_type": "markdown",
   "id": "2af8f71b",
   "metadata": {},
   "source": [
    "### Task 6: \n",
    "\n",
    "1. Apply Binning/Discretization Feature Engineering Techniques on N - ratio of Nitrogen content in soil feature\n",
    "2. Find which bin (low, medium, high) has the most number of observations\n",
    "3. Find which bin (low, medium, high) has the least number of observations\n",
    "\n",
    "**Description:** Divide the continuous values of Nitrogen content into discrete bins (e.g., low, medium, high). This can be helpful if specific ranges of nitrogen levels correlate better with certain crop types."
   ]
  },
  {
   "cell_type": "markdown",
   "id": "42d5890d",
   "metadata": {},
   "source": [
    "### Task 7: \n",
    "\n",
    "\n",
    "1. Apply Normalization/Scaling on P - ratio of Phosphorous content in soil - kg/ha feature\n",
    "2. explain the gap between 0.6 and 0.8 in the above visual\n",
    "\n",
    "**Description:** Scale the nitrogen content values to a range, such as [0, 1] or standardize to have a mean of 0 and a standard deviation of 1. This is particularly useful for algorithms that are sensitive to feature magnitude, like neural networks or gradient-based methods."
   ]
  },
  {
   "cell_type": "markdown",
   "id": "5d1ffa5c",
   "metadata": {},
   "source": [
    "The gap between 0.6 and 0.8 in the histogram of the scaled Phosphorous content (P) suggests that there are no data points in this range after scaling. This could happen for a few reasons:\n",
    "\n",
    "Original Data Distribution:\n",
    "\n",
    "The original values of the Phosphorous content (P) in the dataset might not have had any values that, when scaled, would fall between the 0.6 and 0.8 range. It’s possible that the original data had clusters or gaps that resulted in this range being empty when the scaling was applied.\n",
    "Discrete or Limited Data Values:\n",
    "\n",
    "If the original data for Phosphorous content has a limited set of unique values or is clustered around certain ranges, it's possible that when these values are scaled, they naturally do not produce any values in certain intervals, like between 0.6 and 0.8."
   ]
  },
  {
   "cell_type": "markdown",
   "id": "66a6f7fd",
   "metadata": {},
   "source": [
    "## 4. Exploratory Data Analysis (EDA)\n",
    "Perform EDA to gain insights into the dataset. Visualize relationships between different features and the target variable."
   ]
  },
  {
   "cell_type": "markdown",
   "id": "f7877d44",
   "metadata": {},
   "source": [
    "### Task: 8\n",
    "\n",
    "Analyze the relationship between crop type and rainfall to determine which crops grow well under higher rainfall conditions. Visualize the data using an appropriate plot to gain insights into the rainfall preferences of different crops.\n",
    "\n",
    "**Hint:** Use a boxplot from the seaborn library to visualize the distribution of rainfall for each crop type. The x-axis should represent the crop types, and the y-axis should show the amount of rainfall. This will help you identify which crops have higher median and upper quartile values, indicating their preference for more rainfall."
   ]
  },
  {
   "cell_type": "markdown",
   "id": "a1febccd",
   "metadata": {},
   "source": [
    "### Task 9\n",
    "\n",
    "Analyze the relationship between temperature and crop type to determine if certain crops prefer specific temperature ranges. Visualize the temperature distribution for each crop using a violin plot or swarm plot to identify any patterns or trends in the data.\n",
    "\n",
    "**Hint:** Use a violin plot or swarm plot from the seaborn library. For a violin plot, set the x-axis to represent the crop types and the y-axis to show temperature values, which will help visualize the spread and density of temperatures for each crop. Alternatively, use a swarm plot to display individual temperature data points for each crop type, which provides insights into clustering and spread."
   ]
  },
  {
   "cell_type": "markdown",
   "id": "b72253aa",
   "metadata": {},
   "source": [
    "**Interpretation:**\n",
    "\n",
    "**Patterns and Trends:**\n",
    "\n",
    "Crops with wider and denser distributions around specific temperature ranges suggest their preference for those temperature conditions.\n",
    "Crops that show narrower distributions indicate a specific and possibly limited temperature range they thrive in.\n",
    "If a crop's distribution extends across a broader range, it might be adaptable to varying temperature conditions."
   ]
  },
  {
   "cell_type": "markdown",
   "id": "ea640f39",
   "metadata": {},
   "source": [
    "### Task 10:\n",
    "\n",
    "Perform a correlation analysis between the features (N, P, K, temperature, humidity, ph, and rainfall). Identify which features are strongly correlated with each other. Visualize these correlations using a heatmap and discuss how these relationships might impact crop growth or recommendations."
   ]
  },
  {
   "cell_type": "markdown",
   "id": "ed75ef44",
   "metadata": {},
   "source": [
    "The majority of features show low or no correlation (correlation coefficients close to 0). This suggests that features such as N, P, K, temperature, humidity, ph, and rainfall generally operate independently of each other, impacting crop growth without direct linear relationships."
   ]
  },
  {
   "cell_type": "code",
   "execution_count": null,
   "id": "5d358665",
   "metadata": {},
   "outputs": [],
   "source": []
  },
  {
   "cell_type": "markdown",
   "id": "67ae97b8",
   "metadata": {},
   "source": [
    "## 5. Model Training\n",
    "Choose a machine learning model suitable for the dataset and train it. You may start with basic models like Decision Trees, Logistic Regression, or SVM."
   ]
  },
  {
   "cell_type": "markdown",
   "id": "b8757902",
   "metadata": {},
   "source": [
    "### Task: 11\n",
    "- Split the dataset into training and testing sets.\n",
    "- Train a model and evaluate its performance.\n",
    "- Drop columns that are not relevant for the model (N_Level)\n"
   ]
  },
  {
   "cell_type": "markdown",
   "id": "127e058d",
   "metadata": {},
   "source": [
    "## 6. Model Evaluation\n",
    "Evaluate the trained model using suitable metrics such as accuracy, precision, recall, and F1 score.\n",
    "\n"
   ]
  },
  {
   "cell_type": "markdown",
   "id": "37c263a6",
   "metadata": {},
   "source": [
    "### Task: 11\n",
    "- Make predictions using the test dataset.\n",
    "- Calculate evaluation metrics.\n",
    "- Plot confusion matrix and analyze the results.\n"
   ]
  },
  {
   "cell_type": "markdown",
   "id": "d22ddbde",
   "metadata": {},
   "source": [
    "### Task 12:\n",
    "\n",
    "The confusion matrix and classification report provide detailed insights into the model's performance:\n",
    "\n",
    "**Confusion Matrix:**\n",
    "\n",
    "The confusion matrix shows the number of correct and incorrect predictions made by the model for each crop type. Each row represents the actual class, and each column represents the predicted class.\n",
    "Diagonal values indicate true positives (TP), where the model correctly predicted the crop type.\n",
    "Off-diagonal values represent misclassifications, which are either false positives (FP) or false negatives (FN)."
   ]
  },
  {
   "cell_type": "markdown",
   "id": "e468e7c6",
   "metadata": {},
   "source": [
    "## Congrats ! You have now completed this weeks assignment"
   ]
  },
  {
   "cell_type": "markdown",
   "id": "b0c10a7d",
   "metadata": {},
   "source": []
  }
 ],
 "metadata": {
  "kernelspec": {
   "display_name": "base",
   "language": "python",
   "name": "python3"
  },
  "language_info": {
   "codemirror_mode": {
    "name": "ipython",
    "version": 3
   },
   "file_extension": ".py",
   "mimetype": "text/x-python",
   "name": "python",
   "nbconvert_exporter": "python",
   "pygments_lexer": "ipython3",
   "version": "3.11.9"
  }
 },
 "nbformat": 4,
 "nbformat_minor": 5
}
